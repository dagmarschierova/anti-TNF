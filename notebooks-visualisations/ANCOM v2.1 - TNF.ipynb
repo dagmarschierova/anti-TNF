{
 "cells": [
  {
   "cell_type": "markdown",
   "metadata": {},
   "source": [
    "# Repeated measure/longitudinal analysis"
   ]
  },
  {
   "cell_type": "markdown",
   "metadata": {},
   "source": [
    "### Random intercept model"
   ]
  },
  {
   "cell_type": "code",
   "execution_count": 1,
   "metadata": {},
   "outputs": [],
   "source": [
    "#Detection of differentially abundant taxa across different experimental groups (here is \"delivery\") while accounting for random effects (here is random subject effect ”studyid”)\n",
    "#Example OTU table: data/ecam-table-taxa.tsv\n",
    "#Example meta data: data/ecam-sample-metadata.tsv\n",
    "#Identify structural zeros by specifying group_var. Here we would like to know whether there are some structural zeros across different levels of delivery"
   ]
  },
  {
   "cell_type": "code",
   "execution_count": 2,
   "metadata": {},
   "outputs": [],
   "source": [
    "#install.packages('readr')\n",
    "#install.packages('tidyverse')\n",
    "#install.packages('compositions')"
   ]
  },
  {
   "cell_type": "code",
   "execution_count": 3,
   "metadata": {
    "scrolled": true
   },
   "outputs": [
    {
     "name": "stderr",
     "output_type": "stream",
     "text": [
      "── \u001b[1mAttaching packages\u001b[22m ─────────────────────────────────────────────────────────────────────────────────────────────────────────────────── tidyverse 1.3.1 ──\n",
      "\n",
      "\u001b[32m✔\u001b[39m \u001b[34mggplot2\u001b[39m 3.3.5     \u001b[32m✔\u001b[39m \u001b[34mdplyr  \u001b[39m 1.0.7\n",
      "\u001b[32m✔\u001b[39m \u001b[34mtibble \u001b[39m 3.1.4     \u001b[32m✔\u001b[39m \u001b[34mstringr\u001b[39m 1.4.0\n",
      "\u001b[32m✔\u001b[39m \u001b[34mtidyr  \u001b[39m 1.1.3     \u001b[32m✔\u001b[39m \u001b[34mforcats\u001b[39m 0.5.1\n",
      "\u001b[32m✔\u001b[39m \u001b[34mpurrr  \u001b[39m 0.3.4     \n",
      "\n",
      "── \u001b[1mConflicts\u001b[22m ────────────────────────────────────────────────────────────────────────────────────────────────────────────────────── tidyverse_conflicts() ──\n",
      "\u001b[31m✖\u001b[39m \u001b[34mdplyr\u001b[39m::\u001b[32mfilter()\u001b[39m masks \u001b[34mstats\u001b[39m::filter()\n",
      "\u001b[31m✖\u001b[39m \u001b[34mdplyr\u001b[39m::\u001b[32mlag()\u001b[39m    masks \u001b[34mstats\u001b[39m::lag()\n",
      "\n"
     ]
    }
   ],
   "source": [
    "library(readr)\n",
    "library(tidyverse)"
   ]
  },
  {
   "cell_type": "code",
   "execution_count": 4,
   "metadata": {
    "scrolled": true
   },
   "outputs": [
    {
     "name": "stderr",
     "output_type": "stream",
     "text": [
      "\u001b[1m\u001b[1mRows: \u001b[1m\u001b[22m\u001b[34m\u001b[34m193\u001b[34m\u001b[39m \u001b[1m\u001b[1mColumns: \u001b[1m\u001b[22m\u001b[34m\u001b[34m280\u001b[34m\u001b[39m\n",
      "\n",
      "\u001b[36m──\u001b[39m \u001b[1m\u001b[1mColumn specification\u001b[1m\u001b[22m \u001b[36m────────────────────────────────────────────────────────────────────────────────────────────────────────────────────────────────────\u001b[39m\n",
      "\u001b[1mDelimiter:\u001b[22m \"\\t\"\n",
      "\u001b[31mchr\u001b[39m   (1): #OTU ID\n",
      "\u001b[32mdbl\u001b[39m (279): 1_BA_1, 1_BA_2, 1_BA_3, 1_BA_4, 1_BA_5, 1_BA_6, 1_BA_7, 1_BA_8, 1...\n",
      "\n",
      "\n",
      "\u001b[36mℹ\u001b[39m Use \u001b[30m\u001b[47m\u001b[30m\u001b[47m`spec()`\u001b[47m\u001b[30m\u001b[49m\u001b[39m to retrieve the full column specification for this data.\n",
      "\u001b[36mℹ\u001b[39m Specify the column types or set \u001b[30m\u001b[47m\u001b[30m\u001b[47m`show_col_types = FALSE`\u001b[47m\u001b[30m\u001b[49m\u001b[39m to quiet this message.\n",
      "\n",
      "\u001b[1m\u001b[1mRows: \u001b[1m\u001b[22m\u001b[34m\u001b[34m360\u001b[34m\u001b[39m \u001b[1m\u001b[1mColumns: \u001b[1m\u001b[22m\u001b[34m\u001b[34m75\u001b[34m\u001b[39m\n",
      "\n",
      "\u001b[36m──\u001b[39m \u001b[1m\u001b[1mColumn specification\u001b[1m\u001b[22m \u001b[36m────────────────────────────────────────────────────────────────────────────────────────────────────────────────────────────────────\u001b[39m\n",
      "\u001b[1mDelimiter:\u001b[22m \"\\t\"\n",
      "\u001b[31mchr\u001b[39m (61): #SampleID, Label, Patient, Sex, BMI_category, Smoker, Disease_stat...\n",
      "\u001b[32mdbl\u001b[39m (14): Age, BMI, Visit_num, Week_num, Week_baseline, CRP, WBC, PLT, Ferri...\n",
      "\n",
      "\n",
      "\u001b[36mℹ\u001b[39m Use \u001b[30m\u001b[47m\u001b[30m\u001b[47m`spec()`\u001b[47m\u001b[30m\u001b[49m\u001b[39m to retrieve the full column specification for this data.\n",
      "\u001b[36mℹ\u001b[39m Specify the column types or set \u001b[30m\u001b[47m\u001b[30m\u001b[47m`show_col_types = FALSE`\u001b[47m\u001b[30m\u001b[49m\u001b[39m to quiet this message.\n",
      "\n",
      "\n",
      "Attaching package: ‘nlme’\n",
      "\n",
      "\n",
      "The following object is masked from ‘package:dplyr’:\n",
      "\n",
      "    collapse\n",
      "\n",
      "\n",
      "Welcome to compositions, a package for compositional data analysis.\n",
      "Find an intro with \"? compositions\"\n",
      "\n",
      "\n",
      "\n",
      "Attaching package: ‘compositions’\n",
      "\n",
      "\n",
      "The following objects are masked from ‘package:stats’:\n",
      "\n",
      "    anova, cor, cov, dist, var\n",
      "\n",
      "\n",
      "The following objects are masked from ‘package:base’:\n",
      "\n",
      "    %*%, norm, scale, scale.default\n",
      "\n",
      "\n"
     ]
    }
   ],
   "source": [
    "otu_data = read_tsv(\"/Users/dagmarschierova/MEGA/MBÚ/TNF/NGS/runs_merged/outputs/qiime_results_B/taxonomy_no_raref_Large_cohort_P/taxonomy-L7-rel-filtered1perc.tsv\", skip = 1)\n",
    "otu_id = otu_data$`#OTU ID`\n",
    "otu_data = data.frame(otu_data[, -1], check.names = FALSE)\n",
    "rownames(otu_data) = otu_id\n",
    "\n",
    "meta_data = read_tsv(\"/Users/dagmarschierova/MEGA/MBÚ/TNF/NGS/runs_merged/inputs/metadata_stool_cut.tsv\")[-1, ]\n",
    "meta_data = meta_data %>% rename(Sample.ID = `#SampleID`)\n",
    "\n",
    "#source(\"https://raw.githubusercontent.com/FrederickHuangLin/ANCOM/master/scripts/ancom_v2.1.R\")\n",
    "source(\"/Users/dagmarschierova/MEGA/MBÚ/TNF/NGS/scripts/Ancom_paired_modif.R\")"
   ]
  },
  {
   "cell_type": "code",
   "execution_count": 5,
   "metadata": {},
   "outputs": [],
   "source": [
    "# Step 1: Data preprocessing\n",
    "\n",
    "feature_table = otu_data; sample_var = \"Sample.ID\"; group_var = \"Dg\"\n",
    "out_cut = 0.05; zero_cut = 0.90; lib_cut = 0; neg_lb = TRUE\n",
    "prepro = feature_table_pre_process(feature_table, meta_data, sample_var, group_var, \n",
    "                                   out_cut, zero_cut, lib_cut, neg_lb)\n",
    "feature_table = prepro$feature_table # Preprocessed feature table\n",
    "meta_data = prepro$meta_data # Preprocessed metadata\n",
    "struc_zero = prepro$structure_zeros # Structural zero info"
   ]
  },
  {
   "cell_type": "code",
   "execution_count": 6,
   "metadata": {},
   "outputs": [
    {
     "data": {
      "text/html": [
       "<style>\n",
       ".dl-inline {width: auto; margin:0; padding: 0}\n",
       ".dl-inline>dt, .dl-inline>dd {float: none; width: auto; display: inline-block}\n",
       ".dl-inline>dt::after {content: \":\\0020\"; padding-right: .5ex}\n",
       ".dl-inline>dt:not(:first-of-type) {padding-left: .5ex}\n",
       "</style><dl class=dl-inline><dt>size</dt><dd>7969177</dd><dt>current</dt><dd>143056</dd><dt>direction</dt><dd>1</dd><dt>eval_depth</dt><dd>49</dd></dl>\n"
      ],
      "text/latex": [
       "\\begin{description*}\n",
       "\\item[size] 7969177\n",
       "\\item[current] 143056\n",
       "\\item[direction] 1\n",
       "\\item[eval\\textbackslash{}\\_depth] 49\n",
       "\\end{description*}\n"
      ],
      "text/markdown": [
       "size\n",
       ":   7969177current\n",
       ":   143056direction\n",
       ":   1eval_depth\n",
       ":   49\n",
       "\n"
      ],
      "text/plain": [
       "      size    current  direction eval_depth \n",
       "   7969177     143056          1         49 "
      ]
     },
     "metadata": {},
     "output_type": "display_data"
    }
   ],
   "source": [
    "Cstack_info()"
   ]
  },
  {
   "cell_type": "code",
   "execution_count": 7,
   "metadata": {},
   "outputs": [
    {
     "name": "stderr",
     "output_type": "stream",
     "text": [
      "Warning message in system(\"R --max-ppsize 500000\", intern = TRUE):\n",
      "“running command 'R --max-ppsize 500000' had status 2”\n"
     ]
    },
    {
     "data": {
      "text/html": [],
      "text/latex": [],
      "text/markdown": [],
      "text/plain": [
       "character(0)\n",
       "attr(,\"status\")\n",
       "[1] 2\n",
       "attr(,\"errmsg\")\n",
       "[1] \"Resource temporarily unavailable\""
      ]
     },
     "metadata": {},
     "output_type": "display_data"
    }
   ],
   "source": [
    "system(\"R --max-ppsize 500000\", intern=TRUE)"
   ]
  },
  {
   "cell_type": "code",
   "execution_count": 8,
   "metadata": {},
   "outputs": [
    {
     "ename": "ERROR",
     "evalue": "Error: protect(): protection stack overflow\n",
     "output_type": "error",
     "traceback": [
      "Error: protect(): protection stack overflow\nTraceback:\n",
      "1. ANCOM(feature_table, meta_data, struc_zero, main_var, p_adj_method, \n .     alpha, adj_formula, rand_formula, control = control)",
      "2. apply(alr_data[, 1:n_lr, drop = FALSE], 2, function(x) {\n .     fit = tfun(fixed = tformula, data = data.frame(x, alr_data, \n .         check.names = FALSE), random = formula(rand_formula), \n .         na.action = na.omit, ...)\n .     anova(fit)[main_var, \"p-value\"]\n . })",
      "3. FUN(newX[, i], ...)",
      "4. anova(fit)",
      "5. setStickyClassOption(o)",
      "6. options(compositions = o)"
     ]
    }
   ],
   "source": [
    "# Step 2: ANCOM\n",
    "options(\"expressions\"=500000)\n",
    "\n",
    "main_var = \"Dg\"; p_adj_method = \"BH\"; alpha = 0.05\n",
    "adj_formula = NULL; rand_formula = \"~ 1 | Patient\"\n",
    "control = lmeControl(maxIter = 100, msMaxIter = 100, opt = \"optim\")\n",
    "t_start = Sys.time()\n",
    "res = ANCOM(feature_table, meta_data, struc_zero, main_var, p_adj_method, \n",
    "            alpha, adj_formula, rand_formula, control = control)\n",
    "t_end = Sys.time()\n",
    "t_run = t_end - t_start # around 30s\n",
    "\n",
    "write.table(res$out, file=\"/Users/dagmarschierova/MEGA/MBÚ/TNF/NGS/runs_merged/outputs/qiime_results_B/taxonomy_no_raref_Large_cohort_P/ANCOM2_L7-rel-Dg.tsv\",\n",
    "           quote=FALSE, sep='\\t', row.names = FALSE)\n",
    "write.table(res$dat_fig, file=\"/Users/dagmarschierova/MEGA/MBÚ/TNF/NGS/runs_merged/outputs/qiime_results_B/taxonomy_no_raref_Large_cohort_P/ANCOM2_L7-rel-datfig-Dg.tsv\",\n",
    "           quote=FALSE, sep='\\t', row.names = FALSE)\n"
   ]
  },
  {
   "cell_type": "code",
   "execution_count": null,
   "metadata": {},
   "outputs": [],
   "source": [
    "# Step 3: Volcano Plot\n",
    "\n",
    "# Number of taxa except structural zeros\n",
    "n_taxa = ifelse(is.null(struc_zero), nrow(feature_table), sum(apply(struc_zero, 1, sum) == 0))\n",
    "# Cutoff values for declaring differentially abundant taxa\n",
    "cut_off = c(0.9 * (n_taxa -1), 0.8 * (n_taxa -1), 0.7 * (n_taxa -1), 0.6 * (n_taxa -1))\n",
    "names(cut_off) = c(\"detected_0.9\", \"detected_0.8\", \"detected_0.7\", \"detected_0.6\")\n",
    "\n",
    "# Annotation data\n",
    "dat_ann = data.frame(x = min(res$fig$data$x), y = cut_off[\"detected_0.7\"], label = \"W[0.7]\")\n",
    "\n",
    "fig = res$fig + \n",
    "  geom_hline(yintercept = cut_off[\"detected_0.7\"], linetype = \"dashed\") + \n",
    "  geom_text(data = dat_ann, aes(x = x, y = y, label = label), \n",
    "            size = 4, vjust = -0.5, hjust = 0, color = \"orange\", parse = TRUE)\n",
    "fig   \n"
   ]
  },
  {
   "cell_type": "code",
   "execution_count": null,
   "metadata": {},
   "outputs": [],
   "source": [
    "#png(filename=\"/Users/dagmarschierova/MEGA/MBÚ/TNF/NGS/runs_merged/outputs/qiime_results_B/taxonomy_no_raref_Large_cohort/ANCOM2_L7-rel-Disease_status-pic.png\",\n",
    "#   res=300, width=1500, height=1500,)\n",
    "#plot(res$fig)\n",
    "#dev.off()"
   ]
  },
  {
   "cell_type": "code",
   "execution_count": null,
   "metadata": {},
   "outputs": [],
   "source": []
  }
 ],
 "metadata": {
  "kernelspec": {
   "display_name": "R",
   "language": "R",
   "name": "ir"
  },
  "language_info": {
   "codemirror_mode": "r",
   "file_extension": ".r",
   "mimetype": "text/x-r-source",
   "name": "R",
   "pygments_lexer": "r",
   "version": "4.1.1"
  }
 },
 "nbformat": 4,
 "nbformat_minor": 4
}
